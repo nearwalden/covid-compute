{
 "cells": [
  {
   "cell_type": "code",
   "execution_count": 3,
   "metadata": {},
   "outputs": [],
   "source": [
    "import pandas as p"
   ]
  },
  {
   "cell_type": "code",
   "execution_count": 4,
   "metadata": {},
   "outputs": [],
   "source": [
    "import importlib"
   ]
  },
  {
   "cell_type": "code",
   "execution_count": 6,
   "metadata": {},
   "outputs": [],
   "source": [
    "import covid"
   ]
  },
  {
   "cell_type": "code",
   "execution_count": 7,
   "metadata": {},
   "outputs": [],
   "source": [
    "import states"
   ]
  },
  {
   "cell_type": "code",
   "execution_count": null,
   "metadata": {},
   "outputs": [],
   "source": [
    "%matplotlib inline"
   ]
  },
  {
   "cell_type": "code",
   "execution_count": 13,
   "metadata": {},
   "outputs": [
    {
     "data": {
      "text/plain": [
       "<module 'covid' from '/Users/dd/gitcode/covid-compute/covid.py'>"
      ]
     },
     "execution_count": 13,
     "metadata": {},
     "output_type": "execute_result"
    }
   ],
   "source": [
    "importlib.reload(covid)"
   ]
  },
  {
   "cell_type": "code",
   "execution_count": 8,
   "metadata": {},
   "outputs": [],
   "source": [
    "path = covid.COVID_19_REPO_PATH + covid.COVID_19_CONFIRMED"
   ]
  },
  {
   "cell_type": "code",
   "execution_count": 14,
   "metadata": {},
   "outputs": [],
   "source": [
    "df = p.read_csv(path)"
   ]
  },
  {
   "cell_type": "code",
   "execution_count": 15,
   "metadata": {},
   "outputs": [],
   "source": [
    "a = covid.summarize_us(df)"
   ]
  },
  {
   "cell_type": "code",
   "execution_count": 19,
   "metadata": {},
   "outputs": [
    {
     "data": {
      "image/png": "[encoded data removed]",
      "text/plain": [
       "<Figure size 432x288 with 1 Axes>"
      ]
     },
     "metadata": {
      "needs_background": "light"
     },
     "output_type": "display_data"
    }
   ],
   "source": [
    "covid.plot(a, ['Massachusetts'], \"US cases\")"
   ]
  },
  {
   "cell_type": "code",
   "execution_count": 11,
   "metadata": {},
   "outputs": [],
   "source": [
    "df_us = df[df['Country/Region'] == 'US']"
   ]
  },
  {
   "cell_type": "code",
   "execution_count": 20,
   "metadata": {},
   "outputs": [
    {
     "data": {
      "text/plain": [
       "1/22/20      0\n",
       "1/23/20      0\n",
       "1/24/20      0\n",
       "1/25/20      0\n",
       "1/26/20      0\n",
       "1/27/20      0\n",
       "1/28/20      0\n",
       "1/29/20      0\n",
       "1/30/20      0\n",
       "1/31/20      0\n",
       "2/1/20       0\n",
       "2/2/20       0\n",
       "2/3/20       0\n",
       "2/4/20       0\n",
       "2/5/20       0\n",
       "2/6/20       0\n",
       "2/7/20       0\n",
       "2/8/20       0\n",
       "2/9/20       0\n",
       "2/10/20      0\n",
       "2/11/20      0\n",
       "2/12/20      0\n",
       "2/13/20      0\n",
       "2/14/20      0\n",
       "2/15/20      0\n",
       "2/16/20      0\n",
       "2/17/20      0\n",
       "2/18/20      0\n",
       "2/19/20      0\n",
       "2/20/20      0\n",
       "2/21/20      0\n",
       "2/22/20      0\n",
       "2/23/20      0\n",
       "2/24/20      0\n",
       "2/25/20      0\n",
       "2/26/20      0\n",
       "2/27/20      0\n",
       "2/28/20      0\n",
       "2/29/20      0\n",
       "3/1/20       0\n",
       "3/2/20       0\n",
       "3/3/20       0\n",
       "3/4/20       0\n",
       "3/5/20       0\n",
       "3/6/20       0\n",
       "3/7/20       0\n",
       "3/8/20       0\n",
       "3/9/20       0\n",
       "3/10/20     92\n",
       "3/11/20     95\n",
       "3/12/20    108\n",
       "Name: Massachusetts, dtype: int64"
      ]
     },
     "execution_count": 20,
     "metadata": {},
     "output_type": "execute_result"
    }
   ],
   "source": [
    "a.Massachusetts"
   ]
  },
  {
   "cell_type": "code",
   "execution_count": 16,
   "metadata": {},
   "outputs": [
    {
     "ename": "SyntaxError",
     "evalue": "invalid syntax (<ipython-input-16-099a1c035e98>, line 1)",
     "output_type": "error",
     "traceback": [
      "\u001b[0;36m  File \u001b[0;32m\"<ipython-input-16-099a1c035e98>\"\u001b[0;36m, line \u001b[0;32m1\u001b[0m\n\u001b[0;31m    4 isin a\u001b[0m\n\u001b[0m         ^\u001b[0m\n\u001b[0;31mSyntaxError\u001b[0m\u001b[0;31m:\u001b[0m invalid syntax\n"
     ]
    }
   ],
   "source": [
    "4 in a"
   ]
  },
  {
   "cell_type": "code",
   "execution_count": null,
   "metadata": {},
   "outputs": [],
   "source": []
  }
 ],
 "metadata": {
  "kernelspec": {
   "display_name": "Python 3",
   "language": "python",
   "name": "python3"
  },
  "language_info": {
   "codemirror_mode": {
    "name": "ipython",
    "version": 3
   },
   "file_extension": ".py",
   "mimetype": "text/x-python",
   "name": "python",
   "nbconvert_exporter": "python",
   "pygments_lexer": "ipython3",
   "version": "3.7.5"
  }
 },
 "nbformat": 4,
 "nbformat_minor": 4
}
