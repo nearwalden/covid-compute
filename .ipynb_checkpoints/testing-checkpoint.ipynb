{
 "cells": [
  {
   "cell_type": "code",
   "execution_count": 1,
   "metadata": {},
   "outputs": [],
   "source": [
    "import pandas as p"
   ]
  },
  {
   "cell_type": "code",
   "execution_count": 15,
   "metadata": {},
   "outputs": [],
   "source": [
    "import importlib"
   ]
  },
  {
   "cell_type": "code",
   "execution_count": 10,
   "metadata": {},
   "outputs": [],
   "source": [
    "import covid"
   ]
  },
  {
   "cell_type": "code",
   "execution_count": 27,
   "metadata": {},
   "outputs": [],
   "source": [
    "%matplotlib inline"
   ]
  },
  {
   "cell_type": "code",
   "execution_count": 24,
   "metadata": {},
   "outputs": [
    {
     "data": {
      "text/plain": [
       "<module 'covid' from '/Users/dd/gitcode/covid-compute/covid.py'>"
      ]
     },
     "execution_count": 24,
     "metadata": {},
     "output_type": "execute_result"
    }
   ],
   "source": [
    "importlib.reload(covid)"
   ]
  },
  {
   "cell_type": "code",
   "execution_count": 11,
   "metadata": {},
   "outputs": [],
   "source": [
    "path = covid.COVID_19_REPO_PATH + covid.COVID_19_CONFIRMED"
   ]
  },
  {
   "cell_type": "code",
   "execution_count": 29,
   "metadata": {},
   "outputs": [],
   "source": [
    "df = p.read_csv(path)"
   ]
  },
  {
   "cell_type": "code",
   "execution_count": 30,
   "metadata": {},
   "outputs": [],
   "source": [
    "a = covid.summarize_data(df)"
   ]
  },
  {
   "cell_type": "code",
   "execution_count": 31,
   "metadata": {},
   "outputs": [
    {
     "data": {
      "image/png": "[encoded data removed]",
      "text/plain": [
       "<Figure size 432x288 with 1 Axes>"
      ]
     },
     "metadata": {
      "needs_background": "light"
     },
     "output_type": "display_data"
    }
   ],
   "source": [
    "covid.plot(a, ['US'], \"US cases\")"
   ]
  },
  {
   "cell_type": "code",
   "execution_count": 33,
   "metadata": {},
   "outputs": [
    {
     "data": {
      "text/plain": [
       "1/22/20       1\n",
       "1/23/20       1\n",
       "1/24/20       2\n",
       "1/25/20       2\n",
       "1/26/20       5\n",
       "1/27/20       5\n",
       "1/28/20       5\n",
       "1/29/20       5\n",
       "1/30/20       5\n",
       "1/31/20       7\n",
       "2/1/20        8\n",
       "2/2/20        8\n",
       "2/3/20       11\n",
       "2/4/20       11\n",
       "2/5/20       11\n",
       "2/6/20       11\n",
       "2/7/20       11\n",
       "2/8/20       11\n",
       "2/9/20       11\n",
       "2/10/20      11\n",
       "2/11/20      12\n",
       "2/12/20      12\n",
       "2/13/20      13\n",
       "2/14/20      13\n",
       "2/15/20      13\n",
       "2/16/20      13\n",
       "2/17/20      13\n",
       "2/18/20      13\n",
       "2/19/20      13\n",
       "2/20/20      13\n",
       "2/21/20      15\n",
       "2/22/20      15\n",
       "2/23/20      15\n",
       "2/24/20      51\n",
       "2/25/20      51\n",
       "2/26/20      57\n",
       "2/27/20      58\n",
       "2/28/20      60\n",
       "2/29/20      68\n",
       "3/1/20       74\n",
       "3/2/20       98\n",
       "3/3/20      118\n",
       "3/4/20      149\n",
       "3/5/20      217\n",
       "3/6/20      267\n",
       "3/7/20      403\n",
       "3/8/20      518\n",
       "3/9/20      584\n",
       "3/10/20    1670\n",
       "Name: US, dtype: int64"
      ]
     },
     "execution_count": 33,
     "metadata": {},
     "output_type": "execute_result"
    }
   ],
   "source": [
    "a.US"
   ]
  },
  {
   "cell_type": "code",
   "execution_count": 9,
   "metadata": {},
   "outputs": [
    {
     "data": {
      "text/html": [
       "<div>\n",
       "<style scoped>\n",
       "    .dataframe tbody tr th:only-of-type {\n",
       "        vertical-align: middle;\n",
       "    }\n",
       "\n",
       "    .dataframe tbody tr th {\n",
       "        vertical-align: top;\n",
       "    }\n",
       "\n",
       "    .dataframe thead th {\n",
       "        text-align: right;\n",
       "    }\n",
       "</style>\n",
       "<table border=\"1\" class=\"dataframe\">\n",
       "  <thead>\n",
       "    <tr style=\"text-align: right;\">\n",
       "      <th>state</th>\n",
       "      <th>ma</th>\n",
       "      <th>ct</th>\n",
       "      <th>ca</th>\n",
       "    </tr>\n",
       "  </thead>\n",
       "  <tbody>\n",
       "    <tr>\n",
       "      <th>pop</th>\n",
       "      <td>34</td>\n",
       "      <td>45</td>\n",
       "      <td>123</td>\n",
       "    </tr>\n",
       "  </tbody>\n",
       "</table>\n",
       "</div>"
      ],
      "text/plain": [
       "state  ma  ct   ca\n",
       "pop    34  45  123"
      ]
     },
     "execution_count": 9,
     "metadata": {},
     "output_type": "execute_result"
    }
   ],
   "source": [
    "df2.T"
   ]
  },
  {
   "cell_type": "code",
   "execution_count": null,
   "metadata": {},
   "outputs": [],
   "source": []
  }
 ],
 "metadata": {
  "kernelspec": {
   "display_name": "Python 3",
   "language": "python",
   "name": "python3"
  },
  "language_info": {
   "codemirror_mode": {
    "name": "ipython",
    "version": 3
   },
   "file_extension": ".py",
   "mimetype": "text/x-python",
   "name": "python",
   "nbconvert_exporter": "python",
   "pygments_lexer": "ipython3",
   "version": "3.7.5"
  }
 },
 "nbformat": 4,
 "nbformat_minor": 4
}
